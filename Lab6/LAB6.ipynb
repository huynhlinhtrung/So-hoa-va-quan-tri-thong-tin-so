{
  "cells": [
    {
      "cell_type": "markdown",
      "source": [
        "# Mục mới"
      ],
      "metadata": {
        "id": "7Q2T6AeXUEHc"
      }
    },
    {
      "cell_type": "code",
      "source": [
        "pip install torch torchvision torchaudio\n"
      ],
      "metadata": {
        "id": "ae3smPDtUE_V",
        "outputId": "e8b3c15f-ffbf-4c56-af62-570a6e038ca0",
        "colab": {
          "base_uri": "https://localhost:8080/"
        }
      },
      "execution_count": null,
      "outputs": [
        {
          "output_type": "stream",
          "name": "stdout",
          "text": [
            "Requirement already satisfied: torch in /usr/local/lib/python3.11/dist-packages (2.5.1+cu124)\n",
            "Requirement already satisfied: torchvision in /usr/local/lib/python3.11/dist-packages (0.20.1+cu124)\n",
            "Requirement already satisfied: torchaudio in /usr/local/lib/python3.11/dist-packages (2.5.1+cu124)\n",
            "Requirement already satisfied: filelock in /usr/local/lib/python3.11/dist-packages (from torch) (3.17.0)\n",
            "Requirement already satisfied: typing-extensions>=4.8.0 in /usr/local/lib/python3.11/dist-packages (from torch) (4.12.2)\n",
            "Requirement already satisfied: networkx in /usr/local/lib/python3.11/dist-packages (from torch) (3.4.2)\n",
            "Requirement already satisfied: jinja2 in /usr/local/lib/python3.11/dist-packages (from torch) (3.1.5)\n",
            "Requirement already satisfied: fsspec in /usr/local/lib/python3.11/dist-packages (from torch) (2024.10.0)\n",
            "Collecting nvidia-cuda-nvrtc-cu12==12.4.127 (from torch)\n",
            "  Downloading nvidia_cuda_nvrtc_cu12-12.4.127-py3-none-manylinux2014_x86_64.whl.metadata (1.5 kB)\n",
            "Collecting nvidia-cuda-runtime-cu12==12.4.127 (from torch)\n",
            "  Downloading nvidia_cuda_runtime_cu12-12.4.127-py3-none-manylinux2014_x86_64.whl.metadata (1.5 kB)\n",
            "Collecting nvidia-cuda-cupti-cu12==12.4.127 (from torch)\n",
            "  Downloading nvidia_cuda_cupti_cu12-12.4.127-py3-none-manylinux2014_x86_64.whl.metadata (1.6 kB)\n",
            "Collecting nvidia-cudnn-cu12==9.1.0.70 (from torch)\n",
            "  Downloading nvidia_cudnn_cu12-9.1.0.70-py3-none-manylinux2014_x86_64.whl.metadata (1.6 kB)\n",
            "Collecting nvidia-cublas-cu12==12.4.5.8 (from torch)\n",
            "  Downloading nvidia_cublas_cu12-12.4.5.8-py3-none-manylinux2014_x86_64.whl.metadata (1.5 kB)\n",
            "Collecting nvidia-cufft-cu12==11.2.1.3 (from torch)\n",
            "  Downloading nvidia_cufft_cu12-11.2.1.3-py3-none-manylinux2014_x86_64.whl.metadata (1.5 kB)\n",
            "Collecting nvidia-curand-cu12==10.3.5.147 (from torch)\n",
            "  Downloading nvidia_curand_cu12-10.3.5.147-py3-none-manylinux2014_x86_64.whl.metadata (1.5 kB)\n",
            "Collecting nvidia-cusolver-cu12==11.6.1.9 (from torch)\n",
            "  Downloading nvidia_cusolver_cu12-11.6.1.9-py3-none-manylinux2014_x86_64.whl.metadata (1.6 kB)\n",
            "Collecting nvidia-cusparse-cu12==12.3.1.170 (from torch)\n",
            "  Downloading nvidia_cusparse_cu12-12.3.1.170-py3-none-manylinux2014_x86_64.whl.metadata (1.6 kB)\n",
            "Requirement already satisfied: nvidia-nccl-cu12==2.21.5 in /usr/local/lib/python3.11/dist-packages (from torch) (2.21.5)\n",
            "Requirement already satisfied: nvidia-nvtx-cu12==12.4.127 in /usr/local/lib/python3.11/dist-packages (from torch) (12.4.127)\n",
            "Collecting nvidia-nvjitlink-cu12==12.4.127 (from torch)\n",
            "  Downloading nvidia_nvjitlink_cu12-12.4.127-py3-none-manylinux2014_x86_64.whl.metadata (1.5 kB)\n",
            "Requirement already satisfied: triton==3.1.0 in /usr/local/lib/python3.11/dist-packages (from torch) (3.1.0)\n",
            "Requirement already satisfied: sympy==1.13.1 in /usr/local/lib/python3.11/dist-packages (from torch) (1.13.1)\n",
            "Requirement already satisfied: mpmath<1.4,>=1.1.0 in /usr/local/lib/python3.11/dist-packages (from sympy==1.13.1->torch) (1.3.0)\n",
            "Requirement already satisfied: numpy in /usr/local/lib/python3.11/dist-packages (from torchvision) (1.26.4)\n",
            "Requirement already satisfied: pillow!=8.3.*,>=5.3.0 in /usr/local/lib/python3.11/dist-packages (from torchvision) (11.1.0)\n",
            "Requirement already satisfied: MarkupSafe>=2.0 in /usr/local/lib/python3.11/dist-packages (from jinja2->torch) (3.0.2)\n",
            "Downloading nvidia_cublas_cu12-12.4.5.8-py3-none-manylinux2014_x86_64.whl (363.4 MB)\n",
            "\u001b[2K   \u001b[90m━━━━━━━━━━━━━━━━━━━━━━━━━━━━━━━━━━━━━━━━\u001b[0m \u001b[32m363.4/363.4 MB\u001b[0m \u001b[31m1.8 MB/s\u001b[0m eta \u001b[36m0:00:00\u001b[0m\n",
            "\u001b[?25hDownloading nvidia_cuda_cupti_cu12-12.4.127-py3-none-manylinux2014_x86_64.whl (13.8 MB)\n",
            "\u001b[2K   \u001b[90m━━━━━━━━━━━━━━━━━━━━━━━━━━━━━━━━━━━━━━━━\u001b[0m \u001b[32m13.8/13.8 MB\u001b[0m \u001b[31m67.3 MB/s\u001b[0m eta \u001b[36m0:00:00\u001b[0m\n",
            "\u001b[?25hDownloading nvidia_cuda_nvrtc_cu12-12.4.127-py3-none-manylinux2014_x86_64.whl (24.6 MB)\n",
            "\u001b[2K   \u001b[90m━━━━━━━━━━━━━━━━━━━━━━━━━━━━━━━━━━━━━━━━\u001b[0m \u001b[32m24.6/24.6 MB\u001b[0m \u001b[31m67.2 MB/s\u001b[0m eta \u001b[36m0:00:00\u001b[0m\n",
            "\u001b[?25hDownloading nvidia_cuda_runtime_cu12-12.4.127-py3-none-manylinux2014_x86_64.whl (883 kB)\n",
            "\u001b[2K   \u001b[90m━━━━━━━━━━━━━━━━━━━━━━━━━━━━━━━━━━━━━━━━\u001b[0m \u001b[32m883.7/883.7 kB\u001b[0m \u001b[31m43.2 MB/s\u001b[0m eta \u001b[36m0:00:00\u001b[0m\n",
            "\u001b[?25hDownloading nvidia_cudnn_cu12-9.1.0.70-py3-none-manylinux2014_x86_64.whl (664.8 MB)\n",
            "\u001b[2K   \u001b[90m━━━━━━━━━━━━━━━━━━━━━━━━━━━━━━━━━━━━━━━━\u001b[0m \u001b[32m664.8/664.8 MB\u001b[0m \u001b[31m2.1 MB/s\u001b[0m eta \u001b[36m0:00:00\u001b[0m\n",
            "\u001b[?25hDownloading nvidia_cufft_cu12-11.2.1.3-py3-none-manylinux2014_x86_64.whl (211.5 MB)\n",
            "\u001b[2K   \u001b[90m━━━━━━━━━━━━━━━━━━━━━━━━━━━━━━━━━━━━━━━━\u001b[0m \u001b[32m211.5/211.5 MB\u001b[0m \u001b[31m4.0 MB/s\u001b[0m eta \u001b[36m0:00:00\u001b[0m\n",
            "\u001b[?25hDownloading nvidia_curand_cu12-10.3.5.147-py3-none-manylinux2014_x86_64.whl (56.3 MB)\n",
            "\u001b[2K   \u001b[90m━━━━━━━━━━━━━━━━━━━━━━━━━━━━━━━━━━━━━━━━\u001b[0m \u001b[32m56.3/56.3 MB\u001b[0m \u001b[31m9.7 MB/s\u001b[0m eta \u001b[36m0:00:00\u001b[0m\n",
            "\u001b[?25hDownloading nvidia_cusolver_cu12-11.6.1.9-py3-none-manylinux2014_x86_64.whl (127.9 MB)\n",
            "\u001b[2K   \u001b[90m━━━━━━━━━━━━━━━━━━━━━━━━━━━━━━━━━━━━━━━━\u001b[0m \u001b[32m127.9/127.9 MB\u001b[0m \u001b[31m7.9 MB/s\u001b[0m eta \u001b[36m0:00:00\u001b[0m\n",
            "\u001b[?25hDownloading nvidia_cusparse_cu12-12.3.1.170-py3-none-manylinux2014_x86_64.whl (207.5 MB)\n",
            "\u001b[2K   \u001b[90m━━━━━━━━━━━━━━━━━━━━━━━━━━━━━━━━━━━━━━━━\u001b[0m \u001b[32m207.5/207.5 MB\u001b[0m \u001b[31m4.3 MB/s\u001b[0m eta \u001b[36m0:00:00\u001b[0m\n",
            "\u001b[?25hDownloading nvidia_nvjitlink_cu12-12.4.127-py3-none-manylinux2014_x86_64.whl (21.1 MB)\n",
            "\u001b[2K   \u001b[90m━━━━━━━━━━━━━━━━━━━━━━━━━━━━━━━━━━━━━━━━\u001b[0m \u001b[32m21.1/21.1 MB\u001b[0m \u001b[31m68.1 MB/s\u001b[0m eta \u001b[36m0:00:00\u001b[0m\n",
            "\u001b[?25hInstalling collected packages: nvidia-nvjitlink-cu12, nvidia-curand-cu12, nvidia-cufft-cu12, nvidia-cuda-runtime-cu12, nvidia-cuda-nvrtc-cu12, nvidia-cuda-cupti-cu12, nvidia-cublas-cu12, nvidia-cusparse-cu12, nvidia-cudnn-cu12, nvidia-cusolver-cu12\n",
            "  Attempting uninstall: nvidia-nvjitlink-cu12\n",
            "    Found existing installation: nvidia-nvjitlink-cu12 12.5.82\n",
            "    Uninstalling nvidia-nvjitlink-cu12-12.5.82:\n",
            "      Successfully uninstalled nvidia-nvjitlink-cu12-12.5.82\n",
            "  Attempting uninstall: nvidia-curand-cu12\n",
            "    Found existing installation: nvidia-curand-cu12 10.3.6.82\n",
            "    Uninstalling nvidia-curand-cu12-10.3.6.82:\n",
            "      Successfully uninstalled nvidia-curand-cu12-10.3.6.82\n",
            "  Attempting uninstall: nvidia-cufft-cu12\n",
            "    Found existing installation: nvidia-cufft-cu12 11.2.3.61\n",
            "    Uninstalling nvidia-cufft-cu12-11.2.3.61:\n",
            "      Successfully uninstalled nvidia-cufft-cu12-11.2.3.61\n",
            "  Attempting uninstall: nvidia-cuda-runtime-cu12\n",
            "    Found existing installation: nvidia-cuda-runtime-cu12 12.5.82\n",
            "    Uninstalling nvidia-cuda-runtime-cu12-12.5.82:\n",
            "      Successfully uninstalled nvidia-cuda-runtime-cu12-12.5.82\n",
            "  Attempting uninstall: nvidia-cuda-nvrtc-cu12\n",
            "    Found existing installation: nvidia-cuda-nvrtc-cu12 12.5.82\n",
            "    Uninstalling nvidia-cuda-nvrtc-cu12-12.5.82:\n",
            "      Successfully uninstalled nvidia-cuda-nvrtc-cu12-12.5.82\n",
            "  Attempting uninstall: nvidia-cuda-cupti-cu12\n",
            "    Found existing installation: nvidia-cuda-cupti-cu12 12.5.82\n",
            "    Uninstalling nvidia-cuda-cupti-cu12-12.5.82:\n",
            "      Successfully uninstalled nvidia-cuda-cupti-cu12-12.5.82\n",
            "  Attempting uninstall: nvidia-cublas-cu12\n",
            "    Found existing installation: nvidia-cublas-cu12 12.5.3.2\n",
            "    Uninstalling nvidia-cublas-cu12-12.5.3.2:\n",
            "      Successfully uninstalled nvidia-cublas-cu12-12.5.3.2\n",
            "  Attempting uninstall: nvidia-cusparse-cu12\n",
            "    Found existing installation: nvidia-cusparse-cu12 12.5.1.3\n",
            "    Uninstalling nvidia-cusparse-cu12-12.5.1.3:\n",
            "      Successfully uninstalled nvidia-cusparse-cu12-12.5.1.3\n",
            "  Attempting uninstall: nvidia-cudnn-cu12\n",
            "    Found existing installation: nvidia-cudnn-cu12 9.3.0.75\n",
            "    Uninstalling nvidia-cudnn-cu12-9.3.0.75:\n",
            "      Successfully uninstalled nvidia-cudnn-cu12-9.3.0.75\n",
            "  Attempting uninstall: nvidia-cusolver-cu12\n",
            "    Found existing installation: nvidia-cusolver-cu12 11.6.3.83\n",
            "    Uninstalling nvidia-cusolver-cu12-11.6.3.83:\n",
            "      Successfully uninstalled nvidia-cusolver-cu12-11.6.3.83\n",
            "Successfully installed nvidia-cublas-cu12-12.4.5.8 nvidia-cuda-cupti-cu12-12.4.127 nvidia-cuda-nvrtc-cu12-12.4.127 nvidia-cuda-runtime-cu12-12.4.127 nvidia-cudnn-cu12-9.1.0.70 nvidia-cufft-cu12-11.2.1.3 nvidia-curand-cu12-10.3.5.147 nvidia-cusolver-cu12-11.6.1.9 nvidia-cusparse-cu12-12.3.1.170 nvidia-nvjitlink-cu12-12.4.127\n"
          ]
        }
      ]
    },
    {
      "cell_type": "code",
      "source": [
        "import torch"
      ],
      "metadata": {
        "id": "NeZhkpCmWgHk"
      },
      "execution_count": null,
      "outputs": []
    },
    {
      "cell_type": "code",
      "source": [
        "torch.cuda.memory_cached()"
      ],
      "metadata": {
        "id": "j_Zi_qI5XCq0",
        "outputId": "8c00cabc-29fa-40f3-9d7e-2c80062644ac",
        "colab": {
          "base_uri": "https://localhost:8080/"
        }
      },
      "execution_count": null,
      "outputs": [
        {
          "output_type": "stream",
          "name": "stderr",
          "text": [
            "<ipython-input-2-aeba71b2fcad>:1: FutureWarning: `torch.cuda.memory_cached` has been renamed to `torch.cuda.memory_reserved`\n",
            "  torch.cuda.memory_cached()\n"
          ]
        },
        {
          "output_type": "execute_result",
          "data": {
            "text/plain": [
              "0"
            ]
          },
          "metadata": {},
          "execution_count": 2
        }
      ]
    },
    {
      "cell_type": "markdown",
      "source": [
        "Dataset with pytorch"
      ],
      "metadata": {
        "id": "qYZPzc7GXqiE"
      }
    },
    {
      "cell_type": "code",
      "source": [
        "# loading data iris\n",
        "import torch\n",
        "import numpy as np\n",
        "import pandas as pd\n",
        "import matplotlib.pyplot as plt\n",
        "\n",
        "#\n",
        "df = pd.read_csv('/content/Iris.csv')\n",
        "df.head()\n",
        "df.shape"
      ],
      "metadata": {
        "id": "GH67t5xIXZGc",
        "outputId": "3c486c79-313b-46b8-ffb2-84a947e1ae7d",
        "colab": {
          "base_uri": "https://localhost:8080/"
        }
      },
      "execution_count": null,
      "outputs": [
        {
          "output_type": "execute_result",
          "data": {
            "text/plain": [
              "(150, 6)"
            ]
          },
          "metadata": {},
          "execution_count": 4
        }
      ]
    },
    {
      "cell_type": "code",
      "source": [
        "from sklearn.preprocessing import LabelEncoder\n",
        "from sklearn.model_selection import train_test_split\n",
        "\n",
        "le = LabelEncoder()\n",
        "X = df.drop([ \"Species\"], axis = 1).values\n",
        "y = le.fit_transform(df[\"Species\"].values)\n",
        "\n",
        "# Chia du lieu voi test size = 0.2\n",
        "X_train, X_test, y_train, y_test = train_test_split(X, y, test_size = 0.2, random_state=42)\n",
        "\n",
        "X_train = torch.FloatTensor(X_train)\n",
        "X_test = torch.FloatTensor(X_test)\n",
        "y_train = torch.LongTensor(y_train).reshape(-1, 1)\n",
        "y_test = torch.LongTensor(y_test).reshape(-1,1)\n",
        "#\n",
        "print(f\"train size {len(y_train)}\")"
      ],
      "metadata": {
        "id": "Vl3ERqhfaNP8",
        "outputId": "ccf8a0c3-9dcf-4ab7-a35a-7081f97505cd",
        "colab": {
          "base_uri": "https://localhost:8080/"
        }
      },
      "execution_count": null,
      "outputs": [
        {
          "output_type": "stream",
          "name": "stdout",
          "text": [
            "train size 120\n"
          ]
        }
      ]
    },
    {
      "cell_type": "code",
      "source": [
        "labels, counts = y_train.unique(return_counts=True)\n",
        "print(labels, counts)\n",
        "#"
      ],
      "metadata": {
        "id": "nxZK0Lleax_h",
        "outputId": "3ca89fdc-cdd2-4cca-da24-0d1ef603b61b",
        "colab": {
          "base_uri": "https://localhost:8080/"
        }
      },
      "execution_count": null,
      "outputs": [
        {
          "output_type": "stream",
          "name": "stdout",
          "text": [
            "tensor([0, 1, 2]) tensor([40, 41, 39])\n"
          ]
        }
      ]
    },
    {
      "cell_type": "code",
      "source": [
        "# Tinh dao ham bang pytorch\n",
        "# cho y = 2x^4 + x^3 + 3x^2 + 5x + 1\n",
        "#Tinh y'\n",
        "# tao mot tensor voi requirements_grad duoc dat thanh True\n",
        "x = torch.tensor(2.0, requires_grad=True)\n",
        "print(x)\n",
        "print(x.grad)\n",
        "# Dinh nghĩa hàm\n",
        "y = 2*x**4 + x**3 + 3*x**2 + 5*x + 1\n",
        "print(y)\n",
        "\n",
        "\n",
        "\n"
      ],
      "metadata": {
        "id": "sXy5_G1LdxUX",
        "outputId": "339490f1-0972-42cc-e989-c8ddfce8b8c9",
        "colab": {
          "base_uri": "https://localhost:8080/"
        }
      },
      "execution_count": null,
      "outputs": [
        {
          "output_type": "stream",
          "name": "stdout",
          "text": [
            "tensor(2., requires_grad=True)\n",
            "None\n",
            "tensor(63., grad_fn=<AddBackward0>)\n"
          ]
        }
      ]
    },
    {
      "cell_type": "code",
      "source": [
        "y.grad_fn"
      ],
      "metadata": {
        "id": "sF95J87Be2C7",
        "outputId": "dfcc8321-1127-4b8c-ac28-aaa99b5836a6",
        "colab": {
          "base_uri": "https://localhost:8080/"
        }
      },
      "execution_count": null,
      "outputs": [
        {
          "output_type": "execute_result",
          "data": {
            "text/plain": [
              "<AddBackward0 at 0x7edd162a7fa0>"
            ]
          },
          "metadata": {},
          "execution_count": 8
        }
      ]
    },
    {
      "cell_type": "code",
      "source": [
        "# Thực hiện truyền ngược và tính toán các gradient\n",
        "y.backward()"
      ],
      "metadata": {
        "id": "wXyfK1iye5Tc"
      },
      "execution_count": null,
      "outputs": []
    },
    {
      "cell_type": "code",
      "source": [
        "x.grad"
      ],
      "metadata": {
        "id": "uh3qfRugfT0D",
        "outputId": "0440f580-bca6-42b9-f198-6cbd45fe9537",
        "colab": {
          "base_uri": "https://localhost:8080/"
        }
      },
      "execution_count": null,
      "outputs": [
        {
          "output_type": "execute_result",
          "data": {
            "text/plain": [
              "tensor(93.)"
            ]
          },
          "metadata": {},
          "execution_count": 10
        }
      ]
    },
    {
      "cell_type": "code",
      "source": [
        "# BT\n",
        "# Cho y = 5x^6 + 3x^3 + 2x^1 + x + 2x + 5x^4 + 1\n",
        "# Tìm độ dốc của đa thức trên tại điểm nào\n",
        "\n",
        "# x = torch.tensor([1.0], requires_grad=True)\n",
        "# y = 5*x**6 + 3*x**3 + 2*x**1 + x + 2*x + 5*x**4 + 1\n",
        "# y.backward()\n",
        "# x.grad\n",
        "\n",
        "import torch\n",
        "\n",
        "# Khai báo giá trị x dưới dạng tensor có tính toán đạo hàm\n",
        "x = torch.tensor(2.0, requires_grad=True)\n",
        "\n",
        "# Định nghĩa hàm số y\n",
        "y = 5*x**6 + 5*x**4 + 3*x**3 + 2*x + x + 2*x + 1\n",
        "\n",
        "# Tính đạo hàm bằng autograd\n",
        "y.backward()\n",
        "\n",
        "# Lấy giá trị đạo hàm tại x\n",
        "slope = x.grad\n",
        "print(f\"Độ dốc tại x = {x.item()} là: {slope.item()}\")\n",
        "\n"
      ],
      "metadata": {
        "id": "vKIJuMEVfssT",
        "outputId": "2a0b2166-c5a5-4a66-cee5-b32680a66279",
        "colab": {
          "base_uri": "https://localhost:8080/"
        }
      },
      "execution_count": null,
      "outputs": [
        {
          "output_type": "stream",
          "name": "stdout",
          "text": [
            "Độ dốc tại x = 2.0 là: 1161.0\n"
          ]
        }
      ]
    },
    {
      "cell_type": "code",
      "source": [
        "# BTVN1\n",
        "# Tạo 1 tensort x có giá trị ban đầu là 2.0\n",
        "# Định nghĩa hàm số và tính gradient\n",
        "# y = x^3 + 2x^2 + 5x + 1\n",
        "# hãy tính dy/dx tại giá trị của x\n",
        "# Dùng phương pháp Gradient Descent với learning rate alpha = 0.1 để cập nhật giá trị x trong 10 vòng lặp\n",
        "\n",
        "import torch\n",
        "\n",
        "# Tạo tensor x có giá trị ban đầu là 2.0\n",
        "x = torch.tensor(2.0, requires_grad=True)\n",
        "\n",
        "# Định nghĩa hàm số y = x^3 + 2x^2 + 5x + 1\n",
        "def function(x):\n",
        "    return x**3 + 2*x**2 + 5*x + 1\n",
        "\n",
        "# Định nghĩa learning rate\n",
        "alpha = 0.1\n",
        "\n",
        "# Thực hiện Gradient Descent trong 10 vòng lặp\n",
        "for i in range(10):\n",
        "    # Tính giá trị của hàm số\n",
        "    y = function(x)\n",
        "\n",
        "    # Tính gradient của y theo x\n",
        "    y.backward()\n",
        "\n",
        "    # Lấy giá trị gradient\n",
        "    grad = x.grad\n",
        "\n",
        "    # Cập nhật giá trị của x\n",
        "    x.data = x.data - alpha * grad\n",
        "\n",
        "    # Reset gradient về 0 để tránh tích lũy gradient\n",
        "    x.grad.zero_()\n",
        "\n",
        "    # In giá trị của x và y sau mỗi vòng lặp\n",
        "    print(f\"Iteration {i+1}: x = {x.item()}, y = {y.item()}\")\n",
        "#\n"
      ],
      "metadata": {
        "id": "s8ex4BoOh86S",
        "colab": {
          "base_uri": "https://localhost:8080/"
        },
        "outputId": "460ec323-6e26-42ae-f6d8-add9c0547842"
      },
      "execution_count": 1,
      "outputs": [
        {
          "output_type": "stream",
          "name": "stdout",
          "text": [
            "Iteration 1: x = -0.5, y = 27.0\n",
            "Iteration 2: x = -0.875, y = -1.125\n",
            "Iteration 3: x = -1.2546875476837158, y = -2.513671875\n",
            "Iteration 4: x = -1.7250847816467285, y = -4.1001362800598145\n",
            "Iteration 5: x = -2.427826166152954, y = -6.807298183441162\n",
            "Iteration 6: x = -3.7249975204467773, y = -13.660883903503418\n",
            "Iteration 7: x = -6.897680282592773, y = -41.56037521362305\n",
            "Iteration 8: x = -18.912006378173828, y = -266.51019287109375\n",
            "Iteration 9: x = -119.14640808105469, y = -6142.375\n",
            "Iteration 10: x = -4330.74755859375, y = -1663589.5\n"
          ]
        }
      ]
    },
    {
      "cell_type": "code",
      "source": [
        "# BTVN 2\n",
        "# Tạo 1 tập dữ liệu giả lập với x là số giờ học (ngẫu nhiên từ 1 - 10) và y là số điểm được tính theo công thức\n",
        "# y = 3x + 5 _ noise\n",
        "# Với noise là 1 giá trị ngẫu nhiên nhỏ\n",
        "# Câu 1 khởi tạo tham số w và b ngẫu nhiên với requiré_grad = True\n",
        "# Câu 2 Tính MSE\n",
        "# Câu 3 Tính Gradient\n",
        "# Câu 4 Cập nhật tham số w và b bằng Gradient Descent với Learning rate alpha = 0.01\n",
        "# Câu 5 Lặp lại quá trình trên trong 100 vòng lặp và quan sát sự hội tụ của mô hình\n",
        "import torch\n",
        "import numpy as np\n",
        "\n",
        "# Tạo tập dữ liệu giả lập\n",
        "np.random.seed(42)  # Để kết quả có thể tái lập\n",
        "x = np.random.randint(1, 11, size=20)  # Số giờ học (ngẫu nhiên từ 1 đến 10)\n",
        "noise = np.random.normal(0, 1, size=20)  # Nhiễu ngẫu nhiên\n",
        "y = 3 * x + 5 + noise  # Số điểm theo công thức y = 3x + 5 + noise\n",
        "\n",
        "# Chuyển đổi dữ liệu sang tensor\n",
        "x = torch.tensor(x, dtype=torch.float32)\n",
        "y = torch.tensor(y, dtype=torch.float32)\n",
        "\n",
        "# Câu 1: Khởi tạo tham số w và b ngẫu nhiên với requires_grad=True\n",
        "w = torch.randn(1, requires_grad=True)\n",
        "b = torch.randn(1, requires_grad=True)\n",
        "\n",
        "# Định nghĩa hàm dự đoán\n",
        "def predict(x):\n",
        "    return w * x + b\n",
        "\n",
        "# Định nghĩa hàm tính MSE (Mean Squared Error)\n",
        "def mse_loss(y_true, y_pred):\n",
        "    return torch.mean((y_true - y_pred) ** 2)\n",
        "\n",
        "# Định nghĩa learning rate\n",
        "alpha = 0.01\n",
        "\n",
        "# Câu 5: Lặp lại quá trình trong 100 vòng lặp\n",
        "for epoch in range(100):\n",
        "    # Câu 2: Tính MSE\n",
        "    y_pred = predict(x)\n",
        "    loss = mse_loss(y, y_pred)\n",
        "\n",
        "    # Câu 3: Tính Gradient\n",
        "    loss.backward()\n",
        "\n",
        "    # Câu 4: Cập nhật tham số w và b bằng Gradient Descent\n",
        "    with torch.no_grad():\n",
        "        w -= alpha * w.grad\n",
        "        b -= alpha * b.grad\n",
        "\n",
        "    # Reset gradient về 0\n",
        "    w.grad.zero_()\n",
        "    b.grad.zero_()\n",
        "\n",
        "    # In kết quả sau mỗi 10 vòng lặp\n",
        "    if (epoch + 1) % 10 == 0:\n",
        "        print(f\"Epoch {epoch + 1}: w = {w.item():.4f}, b = {b.item():.4f}, Loss = {loss.item():.4f}\")\n",
        "\n",
        "# Kết quả cuối cùng\n",
        "print(\"\\nKết quả cuối cùng:\")\n",
        "print(f\"w = {w.item():.4f}, b = {b.item():.4f}\")"
      ],
      "metadata": {
        "id": "3PMdvkaA_Feh",
        "colab": {
          "base_uri": "https://localhost:8080/"
        },
        "outputId": "7d40720a-7c96-430d-bf8d-1950c3e09e4c"
      },
      "execution_count": 2,
      "outputs": [
        {
          "output_type": "stream",
          "name": "stdout",
          "text": [
            "Epoch 10: w = 3.4660, b = 1.4633, Loss = 1.4866\n",
            "Epoch 20: w = 3.4563, b = 1.5280, Loss = 1.4435\n",
            "Epoch 30: w = 3.4467, b = 1.5912, Loss = 1.4026\n",
            "Epoch 40: w = 3.4375, b = 1.6528, Loss = 1.3637\n",
            "Epoch 50: w = 3.4284, b = 1.7128, Loss = 1.3266\n",
            "Epoch 60: w = 3.4196, b = 1.7714, Loss = 1.2914\n",
            "Epoch 70: w = 3.4110, b = 1.8285, Loss = 1.2579\n",
            "Epoch 80: w = 3.4026, b = 1.8842, Loss = 1.2261\n",
            "Epoch 90: w = 3.3944, b = 1.9385, Loss = 1.1958\n",
            "Epoch 100: w = 3.3864, b = 1.9915, Loss = 1.1670\n",
            "\n",
            "Kết quả cuối cùng:\n",
            "w = 3.3864, b = 1.9915\n"
          ]
        }
      ]
    },
    {
      "cell_type": "code",
      "source": [
        "# pytorch with tensor\n",
        "import torch\n",
        "import numpy as np\n"
      ],
      "metadata": {
        "id": "WdVh1LPBkEAn"
      },
      "execution_count": null,
      "outputs": []
    },
    {
      "cell_type": "code",
      "source": [
        "torch.__version__"
      ],
      "metadata": {
        "id": "zpuZi3I0kNWf",
        "outputId": "714d3c0d-4b8d-4ac3-9527-57f4d14a9b0f",
        "colab": {
          "base_uri": "https://localhost:8080/",
          "height": 35
        }
      },
      "execution_count": null,
      "outputs": [
        {
          "output_type": "execute_result",
          "data": {
            "text/plain": [
              "'2.5.1+cu124'"
            ],
            "application/vnd.google.colaboratory.intrinsic+json": {
              "type": "string"
            }
          },
          "metadata": {},
          "execution_count": 59
        }
      ]
    },
    {
      "cell_type": "code",
      "source": [
        "# Chuyển đổi mảng numpy sang Tensor pytorch\n",
        "arr = np.array([1, 2, 3, 4, 5])\n",
        "print(arr)\n",
        "print(arr.dtype)\n",
        "print(type(arr))"
      ],
      "metadata": {
        "id": "uZkcT_SokZAu",
        "outputId": "e912649a-7459-4598-f3af-869efbf7bf2a",
        "colab": {
          "base_uri": "https://localhost:8080/"
        }
      },
      "execution_count": null,
      "outputs": [
        {
          "output_type": "stream",
          "name": "stdout",
          "text": [
            "[1 2 3 4 5]\n",
            "int64\n",
            "<class 'numpy.ndarray'>\n"
          ]
        }
      ]
    },
    {
      "cell_type": "code",
      "source": [
        "x = torch.from_numpy(arr)\n",
        "print(x)"
      ],
      "metadata": {
        "id": "hso20ah7k0Js",
        "outputId": "ca58dd47-e641-426d-bb86-4cbfd7df46c1",
        "colab": {
          "base_uri": "https://localhost:8080/"
        }
      },
      "execution_count": null,
      "outputs": [
        {
          "output_type": "stream",
          "name": "stdout",
          "text": [
            "tensor([1, 2, 3, 4, 5])\n"
          ]
        }
      ]
    },
    {
      "cell_type": "code",
      "source": [
        "print(x.dtype)"
      ],
      "metadata": {
        "id": "V-9aA8jhlHfN",
        "outputId": "94bf1c60-e931-4cc3-b437-d7a6aab3bb1a",
        "colab": {
          "base_uri": "https://localhost:8080/"
        }
      },
      "execution_count": null,
      "outputs": [
        {
          "output_type": "stream",
          "name": "stdout",
          "text": [
            "torch.int64\n"
          ]
        }
      ]
    },
    {
      "cell_type": "code",
      "source": [
        "print(x.type())"
      ],
      "metadata": {
        "id": "Z6miWFfvlMIt",
        "outputId": "484c9c0b-4ad5-4749-cab0-9a76feb5ec55",
        "colab": {
          "base_uri": "https://localhost:8080/"
        }
      },
      "execution_count": null,
      "outputs": [
        {
          "output_type": "stream",
          "name": "stdout",
          "text": [
            "torch.LongTensor\n"
          ]
        }
      ]
    },
    {
      "cell_type": "code",
      "source": [
        "import numpy as np\n",
        "arr2 = np.arange(0.,12.).reshape(4,3)\n",
        "arr2"
      ],
      "metadata": {
        "id": "rFjZOa-ulUlM",
        "outputId": "0c9a2c32-abcf-4495-802e-adb7a7832c38",
        "colab": {
          "base_uri": "https://localhost:8080/"
        }
      },
      "execution_count": null,
      "outputs": [
        {
          "output_type": "execute_result",
          "data": {
            "text/plain": [
              "array([[ 0.,  1.,  2.],\n",
              "       [ 3.,  4.,  5.],\n",
              "       [ 6.,  7.,  8.],\n",
              "       [ 9., 10., 11.]])"
            ]
          },
          "metadata": {},
          "execution_count": 72
        }
      ]
    },
    {
      "cell_type": "code",
      "source": [
        "x2 = torch.from_numpy(arr2)\n",
        "x2"
      ],
      "metadata": {
        "id": "D0x7WFWUl9sk",
        "outputId": "f4b29cd9-1ec8-4fd5-8bd4-9a48c8fc700b",
        "colab": {
          "base_uri": "https://localhost:8080/"
        }
      },
      "execution_count": null,
      "outputs": [
        {
          "output_type": "execute_result",
          "data": {
            "text/plain": [
              "tensor([[ 0.,  1.,  2.],\n",
              "        [ 3.,  4.,  5.],\n",
              "        [ 6.,  7.,  8.],\n",
              "        [ 9., 10., 11.]], dtype=torch.float64)"
            ]
          },
          "metadata": {},
          "execution_count": 73
        }
      ]
    },
    {
      "cell_type": "code",
      "source": [
        "arr = np.arange(0,5)\n",
        "x = torch.from_numpy(arr)\n",
        "print(x)"
      ],
      "metadata": {
        "id": "JrgYps8PmERD",
        "outputId": "2ab90cd7-1123-42ea-9435-8cb1ed0c2db0",
        "colab": {
          "base_uri": "https://localhost:8080/"
        }
      },
      "execution_count": null,
      "outputs": [
        {
          "output_type": "stream",
          "name": "stdout",
          "text": [
            "tensor([0, 1, 2, 3, 4])\n"
          ]
        }
      ]
    },
    {
      "cell_type": "code",
      "source": [
        "arr[0] = 99\n",
        "print(x)"
      ],
      "metadata": {
        "id": "EXVDo3SJmO3E",
        "outputId": "4148faed-bb20-4a7c-ac59-84660d538990",
        "colab": {
          "base_uri": "https://localhost:8080/"
        }
      },
      "execution_count": null,
      "outputs": [
        {
          "output_type": "stream",
          "name": "stdout",
          "text": [
            "tensor([99,  1,  2,  3,  4])\n"
          ]
        }
      ]
    },
    {
      "cell_type": "code",
      "source": [
        "#BTVN 3: Giải thích tại sao cho 2 trường hợp trên"
      ],
      "metadata": {
        "id": "BDB4eE-8nijq"
      },
      "execution_count": null,
      "outputs": []
    },
    {
      "cell_type": "code",
      "source": [
        "arr = np.arange(0,5)\n",
        "x = torch.tensor(arr)\n",
        "print(x)"
      ],
      "metadata": {
        "id": "66bewCeInR1S",
        "outputId": "e0e19ae1-0c96-4135-82db-9d7a8728570e",
        "colab": {
          "base_uri": "https://localhost:8080/"
        }
      },
      "execution_count": null,
      "outputs": [
        {
          "output_type": "stream",
          "name": "stdout",
          "text": [
            "tensor([0, 1, 2, 3, 4])\n"
          ]
        }
      ]
    },
    {
      "cell_type": "code",
      "source": [
        "arr[0] = 99\n",
        "print (x)"
      ],
      "metadata": {
        "id": "SYhNzWmOndDc",
        "outputId": "5bfbb122-22d7-4bd2-deb3-1c0f5ad4c200",
        "colab": {
          "base_uri": "https://localhost:8080/"
        }
      },
      "execution_count": null,
      "outputs": [
        {
          "output_type": "stream",
          "name": "stdout",
          "text": [
            "tensor([0, 1, 2, 3, 4])\n"
          ]
        }
      ]
    },
    {
      "cell_type": "code",
      "source": [
        "# BTCN 4\n",
        "# Tạo tensor với:\n",
        "# Empty\n",
        "# Zeros\n",
        "# Ones\n",
        "# Randoms\n",
        "# Reshape với view và view as\n",
        "# Deadline 16/03\n",
        "import torch\n",
        "\n",
        "# 1. Tạo tensor với empty (không khởi tạo giá trị, chứa các giá trị rác)\n",
        "tensor_empty = torch.empty(2, 3)  # Tạo tensor 2x3 không khởi tạo giá trị\n",
        "print(\"Tensor empty:\")\n",
        "print(tensor_empty)\n",
        "\n",
        "# 2. Tạo tensor với zeros (khởi tạo giá trị 0)\n",
        "tensor_zeros = torch.zeros(2, 3)  # Tạo tensor 2x3 với tất cả giá trị là 0\n",
        "print(\"\\nTensor zeros:\")\n",
        "print(tensor_zeros)\n",
        "\n",
        "# 3. Tạo tensor với ones (khởi tạo giá trị 1)\n",
        "tensor_ones = torch.ones(2, 3)  # Tạo tensor 2x3 với tất cả giá trị là 1\n",
        "print(\"\\nTensor ones:\")\n",
        "print(tensor_ones)\n",
        "\n",
        "# 4. Tạo tensor với random (khởi tạo giá trị ngẫu nhiên)\n",
        "tensor_random = torch.rand(2, 3)  # Tạo tensor 2x3 với giá trị ngẫu nhiên từ phân phối đều [0, 1)\n",
        "print(\"\\nTensor random:\")\n",
        "print(tensor_random)\n",
        "\n",
        "# 5. Reshape tensor với view\n",
        "# Tạo một tensor có kích thước 2x3\n",
        "tensor = torch.tensor([[1, 2, 3], [4, 5, 6]])\n",
        "print(\"\\nTensor ban đầu:\")\n",
        "print(tensor)\n",
        "\n",
        "# Reshape tensor thành kích thước 3x2 bằng view\n",
        "tensor_reshaped = tensor.view(3, 2)\n",
        "print(\"\\nTensor sau khi reshape với view (3x2):\")\n",
        "print(tensor_reshaped)\n",
        "\n",
        "# 6. Reshape tensor với view_as\n",
        "# Tạo một tensor khác có kích thước 3x2\n",
        "tensor_target = torch.zeros(3, 2)\n",
        "\n",
        "# Reshape tensor ban đầu thành cùng kích thước với tensor_target bằng view_as\n",
        "tensor_reshaped_as = tensor.view_as(tensor_target)\n",
        "print(\"\\nTensor sau khi reshape với view_as (3x2):\")\n",
        "print(tensor_reshaped_as)"
      ],
      "metadata": {
        "id": "_maYTK5WnNcq",
        "colab": {
          "base_uri": "https://localhost:8080/"
        },
        "outputId": "a975ca11-48d8-4b6e-ca99-63f784ea3c76"
      },
      "execution_count": 3,
      "outputs": [
        {
          "output_type": "stream",
          "name": "stdout",
          "text": [
            "Tensor empty:\n",
            "tensor([[2.3481e-34, 0.0000e+00, 2.6987e-34],\n",
            "        [0.0000e+00, 1.1210e-43, 0.0000e+00]])\n",
            "\n",
            "Tensor zeros:\n",
            "tensor([[0., 0., 0.],\n",
            "        [0., 0., 0.]])\n",
            "\n",
            "Tensor ones:\n",
            "tensor([[1., 1., 1.],\n",
            "        [1., 1., 1.]])\n",
            "\n",
            "Tensor random:\n",
            "tensor([[0.3087, 0.1211, 0.5354],\n",
            "        [0.2840, 0.2553, 0.2822]])\n",
            "\n",
            "Tensor ban đầu:\n",
            "tensor([[1, 2, 3],\n",
            "        [4, 5, 6]])\n",
            "\n",
            "Tensor sau khi reshape với view (3x2):\n",
            "tensor([[1, 2],\n",
            "        [3, 4],\n",
            "        [5, 6]])\n",
            "\n",
            "Tensor sau khi reshape với view_as (3x2):\n",
            "tensor([[1, 2],\n",
            "        [3, 4],\n",
            "        [5, 6]])\n"
          ]
        }
      ]
    },
    {
      "cell_type": "code",
      "source": [],
      "metadata": {
        "id": "CDykl4e2V2te"
      },
      "execution_count": null,
      "outputs": []
    }
  ],
  "metadata": {
    "colab": {
      "provenance": []
    },
    "kernelspec": {
      "display_name": "Python 3",
      "name": "python3"
    }
  },
  "nbformat": 4,
  "nbformat_minor": 0
}